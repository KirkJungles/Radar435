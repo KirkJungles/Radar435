{
 "cells": [
  {
   "cell_type": "code",
   "execution_count": 1,
   "metadata": {},
   "outputs": [],
   "source": [
    "# Radar signal simulator\n",
    "# ECE 435/535 Winter 2020\n",
    "# -------------------\n",
    "# George P. Burdell\n",
    "# Bell Georgina  \n",
    "# Date: \n",
    "# -------------------\n",
    "# Description of add ons \n",
    "\n",
    "'''\n",
    "Method: -- this is a script..\n",
    "1 - Create a pulse train from Transmitter\n",
    "2 - Generate a list of targets, (Range, RCS)\n",
    "3 - Generate return pulses for each of the targets into a single train\n",
    "4 - Attenuate 1 to reasonable power level\n",
    "5 - Add 3+4\n",
    "6 - Add AGWN to 5\n",
    "7 - Apply detection method\n",
    "'''\n",
    "\n",
    "from matplotlib import pyplot as plt\n",
    "import numpy as np\n",
    "import scipy.signal as sig\n",
    "\n",
    "# Custom libraries\n",
    "import pulsetrain as pt\n",
    "import pulsenoise as pn\n",
    "import detection as det\n",
    "\n",
    "# Student Libary\n",
    "import lastname as GPD # Intials (George P. Burdell)\n"
   ]
  },
  {
   "cell_type": "markdown",
   "metadata": {},
   "source": [
    "## Student Custom Library "
   ]
  },
  {
   "cell_type": "code",
   "execution_count": 2,
   "metadata": {},
   "outputs": [
    {
     "name": "stdout",
     "output_type": "stream",
     "text": [
      "23 1939 Chain Home\n",
      "\n",
      "================\n",
      "42 23\n"
     ]
    }
   ],
   "source": [
    "def myfunction(var1, var2='1942', var3='Chain Home'):\n",
    "    print(var1, var2, var3)\n",
    "    x = 42\n",
    "    return x, var1\n",
    "\n",
    "# usage\n",
    "derp0, derp1 = myfunction(23,'1939')\n",
    "print('\\n================')\n",
    "print(derp0, derp1)"
   ]
  },
  {
   "cell_type": "code",
   "execution_count": 3,
   "metadata": {},
   "outputs": [],
   "source": [
    "def prob_detection(var1, var2):\n",
    "    \n",
    "    SNR = var1 #SNR obtained from the difference between noise floor power and peak power\n",
    "    num_observations = var2\n",
    "    \n",
    "    false_detection = np.exp(-(SNR)*np.sqrt(num_observations))\n",
    "    \n",
    "    detection = 1 - false_detection\n",
    "    return detection"
   ]
  },
  {
   "cell_type": "code",
   "execution_count": 4,
   "metadata": {},
   "outputs": [],
   "source": [
    "def new_noise_floor(var1):\n",
    "     \n",
    "    sum_and_gated = var1\n",
    "    \n",
    "    n_l = np.median(sum_and_gated)\n",
    "    \n",
    "    return n_l\n",
    "\n"
   ]
  },
  {
   "cell_type": "markdown",
   "metadata": {},
   "source": [
    "### Setup the RADAR parameters"
   ]
  },
  {
   "cell_type": "code",
   "execution_count": 5,
   "metadata": {},
   "outputs": [],
   "source": [
    "Pavg = 100e3        # Basic Power level output of the radar\n",
    "Gt = 15             # Scalar Gain of TX antenna\n",
    "Gr = Gt             # Scalar Gain of RX antenna  if Gr == Gt same antenna\n",
    "fc = 40e6           # Carrier Frequency, Center Frequency\n",
    "vp = 3e8            # Phase Velocity of the EM wave\n",
    "NF = 1              # Receiver Noise Figure\n",
    "T  = 1/fc           # period of one Carrier Frequency\n",
    "#derived values\n",
    "Lambda = vp/fc\n",
    "\n",
    "# Setup Time portion\n",
    "PRF = 500           # Pulses per second (hertz)\n",
    "PRI = 1/PRF         # Pulse Repetition Interval (seconds)\n",
    "R_unamb = PRI *vp/2 # Unambiguous Range\n",
    "\n",
    "#Num cycles per pulse packet\n",
    "k = 100             # k cycles of fc in the pulse packet\n",
    "PW = k*T            # k cycles * Period of fc\n",
    "BW = 1/PW           # Bandwidth of the RADAR Pulse\n",
    "# error check\n",
    "if PW >= PRI:\n",
    "    print('Error: Pulse width much too long -- PRI: {}, PW = {}'.format(PRI, PW))\n"
   ]
  },
  {
   "cell_type": "markdown",
   "metadata": {},
   "source": [
    "### Find R-max, R-umabigous"
   ]
  },
  {
   "cell_type": "code",
   "execution_count": 6,
   "metadata": {},
   "outputs": [
    {
     "name": "stdout",
     "output_type": "stream",
     "text": [
      "Rmax(SNR:1, RCS:1) \t= 141.16 km\n",
      "R unambigouse \t\t= 300.00km\n"
     ]
    }
   ],
   "source": [
    "# calculate maximum range with SNR = 1, n Observations = 1\n",
    "SNRmin = 1\n",
    "RCS = 1\n",
    "Rmax = pt.calcRmax(Pavg,Gt,Gr,Lambda, BW, SNRmin = SNRmin, RCS = RCS) #, RCS, T, NF = 1,L=1, SNRmin=1)\n",
    "print('Rmax(SNR:{}, RCS:{}) \\t= {:.02f} km'.format(SNRmin, RCS, Rmax/1e3))\n",
    "print('R unambigouse \\t\\t= {:.02f}km'.format(R_unamb/1e3))\n"
   ]
  },
  {
   "cell_type": "markdown",
   "metadata": {},
   "source": [
    "# Setup the testing enviroment"
   ]
  },
  {
   "cell_type": "code",
   "execution_count": 7,
   "metadata": {},
   "outputs": [],
   "source": [
    "num_targets = 10\n",
    "\n",
    "target_ranges = np.random.randint(Rmax//4,Rmax,num_targets)\n",
    "target_rcs = np.random.randint(1,1000,num_targets)\n"
   ]
  },
  {
   "cell_type": "markdown",
   "metadata": {},
   "source": [
    "#### Time series Constraints"
   ]
  },
  {
   "cell_type": "code",
   "execution_count": 8,
   "metadata": {},
   "outputs": [],
   "source": [
    "K_pulses = 20 # how many PRI's get simulated\n",
    "dt_k = 20 # how many samples per fc period (Tc)"
   ]
  },
  {
   "cell_type": "markdown",
   "metadata": {},
   "source": [
    "#### Build the sample Pulse Train and examine"
   ]
  },
  {
   "cell_type": "code",
   "execution_count": 9,
   "metadata": {},
   "outputs": [
    {
     "name": "stdout",
     "output_type": "stream",
     "text": [
      "=*=*=*=*=*=*=*=*=*=*=*=*=*=*=*=*=*=*=*=*=*=*=*=*=*=*=*=*=*=*=*=*=*=*=*=*=*=*=*=*\n",
      "Amplitude -100.00 dBm, fc:40000000.0, k:100, PRI:0.002, dt_k:20, K_pulses:20 \n"
     ]
    }
   ],
   "source": [
    "# Make a signal smaller in amplitude to simulate the \n",
    "# blanking / attenuation in normal RADAR systems\n",
    "\n",
    "\n",
    "attenuate = True\n",
    "if attenuate == True:\n",
    "    dBm = -100 #dBm\n",
    "    scalar = 1e-3 * np.power(10,(dBm/10))\n",
    "else:\n",
    "    scalar = Pavg\n",
    "    \n",
    "main_train, PW, dt, len_PRI = pt.createPulseTrain(A=scalar,fc = fc, k=k, PRI=PRI, dt_k=dt_k, K_pulses = K_pulses)\n",
    "\n"
   ]
  },
  {
   "cell_type": "markdown",
   "metadata": {},
   "source": [
    "### Create the target reflections"
   ]
  },
  {
   "cell_type": "code",
   "execution_count": 10,
   "metadata": {},
   "outputs": [
    {
     "name": "stdout",
     "output_type": "stream",
     "text": [
      ":: idx: 0 Power at RX 80.0 dBm @ range: 129819 rmax 300000.0\n",
      "=*=*=*=*=*=*=*=*=*=*=*=*=*=*=*=*=*=*=*=*=*=*=*=*=*=*=*=*=*=*=*=*=*=*=*=*=*=*=*=*\n",
      "Amplitude -82.24 dBm, fc:40000000.0, k:100, PRI:0.002, dt_k:20, K_pulses:20 \n",
      "692368\n",
      ":: idx: 1 Power at RX 80.0 dBm @ range: 132607 rmax 300000.0\n",
      "=*=*=*=*=*=*=*=*=*=*=*=*=*=*=*=*=*=*=*=*=*=*=*=*=*=*=*=*=*=*=*=*=*=*=*=*=*=*=*=*\n",
      "Amplitude -84.10 dBm, fc:40000000.0, k:100, PRI:0.002, dt_k:20, K_pulses:20 \n",
      "707237\n",
      ":: idx: 2 Power at RX 80.0 dBm @ range: 119022 rmax 300000.0\n",
      "=*=*=*=*=*=*=*=*=*=*=*=*=*=*=*=*=*=*=*=*=*=*=*=*=*=*=*=*=*=*=*=*=*=*=*=*=*=*=*=*\n",
      "Amplitude -94.11 dBm, fc:40000000.0, k:100, PRI:0.002, dt_k:20, K_pulses:20 \n",
      "634784\n",
      ":: idx: 3 Power at RX 80.0 dBm @ range: 35459 rmax 300000.0\n",
      "=*=*=*=*=*=*=*=*=*=*=*=*=*=*=*=*=*=*=*=*=*=*=*=*=*=*=*=*=*=*=*=*=*=*=*=*=*=*=*=*\n",
      "Amplitude -93.94 dBm, fc:40000000.0, k:100, PRI:0.002, dt_k:20, K_pulses:20 \n",
      "189114\n",
      ":: idx: 4 Power at RX 80.0 dBm @ range: 36711 rmax 300000.0\n",
      "=*=*=*=*=*=*=*=*=*=*=*=*=*=*=*=*=*=*=*=*=*=*=*=*=*=*=*=*=*=*=*=*=*=*=*=*=*=*=*=*\n",
      "Amplitude -94.55 dBm, fc:40000000.0, k:100, PRI:0.002, dt_k:20, K_pulses:20 \n",
      "195792\n",
      ":: idx: 5 Power at RX 80.0 dBm @ range: 125504 rmax 300000.0\n",
      "=*=*=*=*=*=*=*=*=*=*=*=*=*=*=*=*=*=*=*=*=*=*=*=*=*=*=*=*=*=*=*=*=*=*=*=*=*=*=*=*\n",
      "Amplitude -95.05 dBm, fc:40000000.0, k:100, PRI:0.002, dt_k:20, K_pulses:20 \n",
      "669354\n",
      ":: idx: 6 Power at RX 80.0 dBm @ range: 127439 rmax 300000.0\n",
      "=*=*=*=*=*=*=*=*=*=*=*=*=*=*=*=*=*=*=*=*=*=*=*=*=*=*=*=*=*=*=*=*=*=*=*=*=*=*=*=*\n",
      "Amplitude -91.41 dBm, fc:40000000.0, k:100, PRI:0.002, dt_k:20, K_pulses:20 \n",
      "679674\n",
      ":: idx: 7 Power at RX 80.0 dBm @ range: 103171 rmax 300000.0\n",
      "=*=*=*=*=*=*=*=*=*=*=*=*=*=*=*=*=*=*=*=*=*=*=*=*=*=*=*=*=*=*=*=*=*=*=*=*=*=*=*=*\n",
      "Amplitude -98.21 dBm, fc:40000000.0, k:100, PRI:0.002, dt_k:20, K_pulses:20 \n",
      "550245\n",
      ":: idx: 8 Power at RX 80.0 dBm @ range: 131685 rmax 300000.0\n",
      "=*=*=*=*=*=*=*=*=*=*=*=*=*=*=*=*=*=*=*=*=*=*=*=*=*=*=*=*=*=*=*=*=*=*=*=*=*=*=*=*\n",
      "Amplitude -76.09 dBm, fc:40000000.0, k:100, PRI:0.002, dt_k:20, K_pulses:20 \n",
      "702320\n",
      ":: idx: 9 Power at RX 80.0 dBm @ range: 92615 rmax 300000.0\n",
      "=*=*=*=*=*=*=*=*=*=*=*=*=*=*=*=*=*=*=*=*=*=*=*=*=*=*=*=*=*=*=*=*=*=*=*=*=*=*=*=*\n",
      "Amplitude -53.82 dBm, fc:40000000.0, k:100, PRI:0.002, dt_k:20, K_pulses:20 \n",
      "493946\n"
     ]
    }
   ],
   "source": [
    "# Now we create the returns...\n",
    "main_trace = np.zeros_like(main_train) # return without TX\n",
    "\n",
    "for idx, target_range in enumerate(target_ranges):\n",
    "\n",
    "    pwr, dbm = pt.RadarEquationAdv(Pavg, Gt, target_range, RCS, Gr, Lambda, dB=False)\n",
    "    print(':: idx: {} Power at RX {} dBm @ range: {} rmax {}'.format(idx,(10*np.log10(Pavg/1e-3)),\n",
    "                                                                     target_range, R_unamb ))\n",
    "    p_train, PW, dt, len_PRI = pt.createPulseTrain(A=pwr,fc = fc, k=k, PRI=PRI,\n",
    "                                                   dt_k=dt_k, K_pulses = np.int(K_pulses))\n",
    "    # time shift to correct spot\n",
    "    p_train = pt.timeShift(p_train, target_range,vp, dt, len_PRI)\n",
    "    main_trace = main_trace + p_train"
   ]
  },
  {
   "cell_type": "markdown",
   "metadata": {},
   "source": [
    "#### Merge the Transmitter Pulse train (main_train) with the reflected signals (main_trace)\n",
    "\n",
    "#### add AWGN to the total Pulse train with returns"
   ]
  },
  {
   "cell_type": "code",
   "execution_count": 11,
   "metadata": {},
   "outputs": [],
   "source": [
    "# -------------------------------\n",
    "# now we add the two systems together.\n",
    "# Add noise to the pulse traing\n",
    "main_trace = main_trace + main_train\n",
    "\n",
    "main_trace = pn.addNoiseToPulseTrain(main_trace,1/PW)\n"
   ]
  },
  {
   "cell_type": "markdown",
   "metadata": {},
   "source": [
    "## DETECTION method"
   ]
  },
  {
   "cell_type": "code",
   "execution_count": 12,
   "metadata": {},
   "outputs": [],
   "source": [
    "# -------------------------------\n",
    "# Detection Section\n",
    "# Envelope detect the signals\n",
    "main_trace_env = det.envelope(main_trace)\n",
    "\n",
    "# -------------------------------\n",
    "# Gate the signal & sum them up for \n",
    "# provide n observation effects\n",
    "n_obs_main_trace_env = main_trace_env.reshape(K_pulses+1, len_PRI)\n",
    "# add them all together\n",
    "n_obs_main_trace_env = n_obs_main_trace_env.sum(axis=0)\n"
   ]
  },
  {
   "cell_type": "markdown",
   "metadata": {},
   "source": [
    "#### Threshold the data"
   ]
  },
  {
   "cell_type": "code",
   "execution_count": 13,
   "metadata": {},
   "outputs": [],
   "source": [
    "from scipy.signal import find_peaks\n",
    "\n",
    "dBm = -85 #dBm\n",
    "scalar = 1e-3 * np.power(10,(dBm/10))\n",
    "#height = scalar\n",
    "\n",
    "peaks, _ = find_peaks(n_obs_main_trace_env, height=scalar, distance=3000)\n"
   ]
  },
  {
   "cell_type": "code",
   "execution_count": 14,
   "metadata": {},
   "outputs": [
    {
     "data": {
      "text/plain": [
       "Text(0, 0.5, 'Power in Watts')"
      ]
     },
     "execution_count": 14,
     "metadata": {},
     "output_type": "execute_result"
    },
    {
     "data": {
      "image/png": "[encoded data removed]",
      "text/plain": [
       "<Figure size 432x288 with 1 Axes>"
      ]
     },
     "metadata": {
      "needs_background": "light"
     },
     "output_type": "display_data"
    }
   ],
   "source": [
    "# make the distance vector\n",
    "nsamps = len(n_obs_main_trace_env)\n",
    "x = np.linspace(0,R_unamb, nsamps)\n",
    "dx = R_unamb/(len(n_obs_main_trace_env))\n",
    "\n",
    "\n",
    "plt.semilogy(x/1e3,n_obs_main_trace_env)\n",
    "plt.semilogy(peaks*dx/1e3,n_obs_main_trace_env[peaks], 'x')\n",
    "plt.title('Location of Peaks')\n",
    "plt.xlabel('Distance in km')\n",
    "plt.ylabel('Power in Watts')"
   ]
  },
  {
   "cell_type": "code",
   "execution_count": 17,
   "metadata": {},
   "outputs": [
    {
     "name": "stdout",
     "output_type": "stream",
     "text": [
      "8.182978251464553e-14\n",
      "2.7003828229833025e-11\n",
      "[-4.72119993 -5.31658494 -9.15558905 -8.31173057 -7.25126866 -5.84071644\n",
      " -3.70036464  1.28499328 35.32968661 -1.84443602 -4.86179692 -6.62770502\n",
      " -7.87617957 -8.84494446 -8.03347624 -4.86362633 -5.81671219 -2.28401497\n",
      "  6.90058493 13.05350459  5.03721404]\n",
      "21\n",
      "[0.         0.         0.         0.         0.         0.\n",
      " 0.         0.99680659 1.         0.         0.         0.\n",
      " 0.         0.         0.         0.         0.         0.\n",
      " 1.         1.         1.        ]\n",
      "5\n",
      "[-13.64489759 -11.00130299 -11.4076547  ... -29.14269878 -20.00552716\n",
      " -25.18286746]\n"
     ]
    }
   ],
   "source": [
    "#SNR calculation and probability of false detect\n",
    "\n",
    "noise_level = new_noise_floor(n_obs_main_trace_env[20000:30000])\n",
    "print(noise_level)\n",
    "\n",
    "noise_level = noise_level*330 #Noise level multiplier\n",
    "print(noise_level)\n",
    "\n",
    "snr_level = 10 * np.log10(n_obs_main_trace_env[peaks]/noise_level)\n",
    "print(snr_level)\n",
    "\n",
    "p = prob_detection(snr_level,K_pulses)\n",
    "\n",
    "len_p = len(p)\n",
    "print(len_p)\n",
    "\n",
    "count = 0\n",
    "for i in range(0,len_p):\n",
    "    if p[i] < 0:\n",
    "        p[i] = 0\n",
    "    elif p[i] > .6:\n",
    "        count = count + 1\n",
    "print(p)\n",
    "print(count)\n",
    "\n",
    "snr_level2 = 10 * np.log10(n_obs_main_trace_env/noise_level)\n",
    "print(snr_level2)\n",
    "    "
   ]
  },
  {
   "cell_type": "code",
   "execution_count": 18,
   "metadata": {},
   "outputs": [
    {
     "name": "stdout",
     "output_type": "stream",
     "text": [
      "(array([      1,       4,       6, ..., 1599993, 1599996, 1599998],\n",
      "      dtype=int64),)\n"
     ]
    }
   ],
   "source": [
    "#find_peaks replacement\n",
    "\n",
    "from scipy.signal import argrelextrema\n",
    "#find local maxima\n",
    "y = argrelextrema(n_obs_main_trace_env, np.greater)\n",
    "print(y)\n"
   ]
  },
  {
   "cell_type": "markdown",
   "metadata": {},
   "source": [
    "# HW:\n",
    "This homework is for getting familiar with interacting with data. You are going to write a few functions. The functions that you are writing are relively simple. The basic simulator is supplied. I suggest you exercise it change a few functions. You have two method of adding funtions. You can either add them near the top in the #Custom Fuction# block or in the <i><b>LastName.py</b></i> file \n",
    "\n",
    "\n",
    "## Jupyter Modifications \n",
    "1. Add probablity of detection function (done)\n",
    "1. Add fuction to detect/generate new noise floor after gating and summing\n",
    "1. Use probability of detection function to determine threshold (done)\n",
    "1. What is last peak? \n",
    "1. Convert plot to dBm (done)\n",
    "1. Replace find_peaks with a thresholding function\n",
    "\n",
    "## Functions to add\n",
    "1. Probablity of False Positive (done) \n",
    "1. Find noise floor from data (done)\n",
    "1. SNR Threshold function (done)\n",
    "1. Report number of targets and distance (done)"
   ]
  },
  {
   "cell_type": "code",
   "execution_count": null,
   "metadata": {},
   "outputs": [],
   "source": []
  }
 ],
 "metadata": {
  "kernelspec": {
   "display_name": "Python 3",
   "language": "python",
   "name": "python3"
  },
  "language_info": {
   "codemirror_mode": {
    "name": "ipython",
    "version": 3
   },
   "file_extension": ".py",
   "mimetype": "text/x-python",
   "name": "python",
   "nbconvert_exporter": "python",
   "pygments_lexer": "ipython3",
   "version": "3.7.4"
  }
 },
 "nbformat": 4,
 "nbformat_minor": 2
}
