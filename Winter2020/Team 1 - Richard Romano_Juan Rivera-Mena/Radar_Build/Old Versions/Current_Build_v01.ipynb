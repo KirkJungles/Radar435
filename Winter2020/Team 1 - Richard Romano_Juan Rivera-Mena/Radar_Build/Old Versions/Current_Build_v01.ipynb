{
 "cells": [
  {
   "cell_type": "code",
   "execution_count": 1,
   "metadata": {},
   "outputs": [],
   "source": [
    "### Setup the RADAR parameters"
   ]
  },
  {
   "cell_type": "code",
   "execution_count": 9,
   "metadata": {},
   "outputs": [
    {
     "name": "stdout",
     "output_type": "stream",
     "text": [
      "0.001\n",
      "42.875\n",
      "0.02\n"
     ]
    }
   ],
   "source": [
    "Pavg = 100e3        # Basic Power level output of the radar\n",
    "Gt = 15             # Scalar Gain of TX antenna\n",
    "Gr = Gt             # Scalar Gain of RX antenna  if Gr == Gt same antenna\n",
    "fc = 1e3            # Carrier Frequency, Center Frequency\n",
    "#vp = 3e8            # Phase Velocity of the EM wave\n",
    "vp = 343            # Phase Velocity of sound\n",
    "NF = 1              # Receiver Noise Figure\n",
    "T  = 1/fc           # period of one Carrier Frequency\n",
    "#derived values\n",
    "Lambda = vp/fc\n",
    "\n",
    "print(T)\n",
    "\n",
    "# Setup Time portion\n",
    "PRF = 0.05         # Pulses per second (hertz)\n",
    "PRI = 1/PRF         # Pulse Repetition Interval (seconds)\n",
    "R_unamb = (PRI*vp)/2 # Unambiguous Range\n",
    "print(R_unamb)\n",
    "\n",
    "#Num cycles per pulse packet\n",
    "k = 20             # k cycles of fc in the pulse packet\n",
    "PW = k*T            # k cycles * Period of fc\n",
    "BW = 1/PW           # Bandwidth of the RADAR Pulse\n",
    "print(PW)\n",
    "\n",
    "# error check\n",
    "if PW >= PRI:\n",
    "    print('Error: Pulse width much too long -- PRI: {}, PW = {}'.format(PRI, PW))\n"
   ]
  },
  {
   "cell_type": "code",
   "execution_count": 3,
   "metadata": {},
   "outputs": [
    {
     "name": "stdout",
     "output_type": "stream",
     "text": [
      "190464\n",
      "* Awaiting Trigger *\n",
      "* recording *\n",
      "* done recording *\n"
     ]
    }
   ],
   "source": [
    "import pyaudio\n",
    "import wave\n",
    "import sys\n",
    "import matplotlib.pyplot as plt\n",
    "import numpy as np\n",
    "from time import sleep\n",
    "\n",
    "import librosa\n",
    "import librosa.display\n",
    "\n",
    "import pylab\n",
    "\n",
    "# recording configs\n",
    "CHUNK = 2048\n",
    "FORMAT = pyaudio.paInt16\n",
    "CHANNELS = 2\n",
    "RATE = 96000\n",
    "RECORD_SECONDS = 2\n",
    "NFRAMES = int((RATE / CHUNK) * RECORD_SECONDS)\n",
    "NSAMPS = NFRAMES * CHUNK\n",
    "print(NSAMPS)\n",
    "WAVE_OUTPUT_FILENAME = \"output.wav\"\n",
    "\n",
    "# create & configure microphone\n",
    "mic = pyaudio.PyAudio()\n",
    "stream = mic.open(format=FORMAT,\n",
    "                channels=CHANNELS,\n",
    "                rate=RATE,\n",
    "                input=True,\n",
    "                frames_per_buffer=CHUNK)\n",
    "\n",
    "\n",
    "\n",
    "# read & store microphone data per frame read\n",
    "frames = []\n",
    "trigger = 0\n",
    "sleep(0.01)\n",
    "print(\"* Awaiting Trigger *\")\n",
    "while trigger < 20000:\n",
    "    dataTrig = stream.read(CHUNK)\n",
    "    decoded = np.frombuffer(dataTrig,dtype=np.int16);\n",
    "    trigger = np.amax(decoded)\n",
    "    #display(trigger)\n",
    "    sleep(0.001)\n",
    "\n",
    "print(\"* recording *\")\n",
    "\n",
    "for i in range(0, int(RATE / CHUNK * RECORD_SECONDS)):\n",
    "    data = stream.read(CHUNK)\n",
    "    numpydata = np.frombuffer(data,dtype=np.int16)\n",
    "    frames.append(data)\n",
    "\n",
    "print(\"* done recording *\")\n",
    "\n",
    "\n",
    "# kill the mic and recording\n",
    "stream.stop_stream()\n",
    "stream.close()\n",
    "mic.terminate()\n"
   ]
  },
  {
   "cell_type": "code",
   "execution_count": 4,
   "metadata": {
    "scrolled": false
   },
   "outputs": [
    {
     "name": "stdout",
     "output_type": "stream",
     "text": [
      "96000\n",
      "[[ -363   476]\n",
      " [ -337   483]\n",
      " [ -307   484]\n",
      " ...\n",
      " [ 1841 -1888]\n",
      " [ 3043 -1039]\n",
      " [ 4242  -360]]\n",
      "Data Shape:\n",
      "(190464, 2)\n"
     ]
    }
   ],
   "source": [
    "#combine & store all microphone data to output.wav file\n",
    "outputFile = wave.open(WAVE_OUTPUT_FILENAME, 'wb')\n",
    "outputFile.setnchannels(CHANNELS)\n",
    "outputFile.setsampwidth(mic.get_sample_size(FORMAT))\n",
    "outputFile.setframerate(RATE)\n",
    "outputFile.writeframes(b''.join(frames))\n",
    "outputFile.close()\n",
    "\n",
    "\n",
    "# Plot\n",
    "time = np.arange(0, float(numpydata.shape[0]), 1) / RATE\n",
    "#plt.plot(time, numpydata)\n",
    "\n",
    "# SciPy Import\n",
    "import scipy.io.wavfile\n",
    "rate,audData=scipy.io.wavfile.read('output.wav')\n",
    "\n",
    "#the sample rate is the number of bits of infomration recorded per second\n",
    "print(rate)\n",
    "print(audData)\n",
    "\n",
    "#wav bit type the amount of information recorded in each bit often 8, 16 or 32 bit\n",
    "audData.dtype\n",
    "\n",
    "print(\"Data Shape:\")\n",
    "print(np.shape(audData))\n",
    "\n",
    "#wav length\n",
    "len_PRI = audData.shape[0] / rate\n",
    "\n",
    "#wav number of channels mono/stereo \n",
    "audData.shape[1]\n",
    "\n",
    "#if stereo grab both channels\n",
    "channel1=audData[:,0] #left \n",
    "# channel2=audData[:,1] #right\n",
    "\n",
    "# FFT\n",
    "# from numpy import fft as fft\n",
    "# fourier=fft.fft(channel1)\n",
    "# plt.plot(fourier, color='#ff7f00')\n",
    "# plt.xlabel('k')\n",
    "# plt.ylabel('Amplitude')\n",
    "\n"
   ]
  },
  {
   "cell_type": "code",
   "execution_count": 5,
   "metadata": {},
   "outputs": [
    {
     "name": "stdout",
     "output_type": "stream",
     "text": [
      "Channel 1 Length:\n",
      "190464\n",
      "NSAMPS Length:\n",
      "190464\n",
      "Summed Length:\n",
      "95232\n"
     ]
    },
    {
     "data": {
      "text/plain": [
       "(None, None)"
      ]
     },
     "execution_count": 5,
     "metadata": {},
     "output_type": "execute_result"
    }
   ],
   "source": [
    "# Padding\n",
    "print('Channel 1 Length:'), print (len(channel1))\n",
    "print('NSAMPS Length:'), print (NSAMPS)\n",
    "\n",
    "while np.mod(NSAMPS,RECORD_SECONDS) != 0:\n",
    "    NSAMPS += 1\n",
    "    print(NSAMPS)\n",
    "\n",
    "if len(channel1) > NSAMPS:\n",
    "    mod_channel1 = channel1[NSAMPS - len(channel1)]\n",
    "    print(\"* Shortened *\")\n",
    "    print('NEW Channel 1 Length:'), print (len(mod_channel1))\n",
    "if len(channel1) < NSAMPS:\n",
    "    mod_channel1 = np.pad(channel1, (0,NSAMPS-len(channel1)), 'median')\n",
    "    print(\"* Padded *\")\n",
    "    print('NEW Channel 1 Length:'), print (len(mod_channel1))\n",
    "if len(channel1) == NSAMPS:\n",
    "    mod_channel1 = channel1\n",
    "\n",
    "\n",
    "# N Observations Effect\n",
    "# provide n observation effects\n",
    "channel1_env = mod_channel1.reshape(RECORD_SECONDS, int(NSAMPS/RECORD_SECONDS))\n",
    "# add them all together\n",
    "n_obs_channel1_env = channel1_env.sum(axis=0)\n",
    "\n",
    "print('Summed Length:'),print(len(n_obs_channel1_env))"
   ]
  },
  {
   "cell_type": "code",
   "execution_count": null,
   "metadata": {},
   "outputs": [],
   "source": []
  },
  {
   "cell_type": "code",
   "execution_count": 6,
   "metadata": {},
   "outputs": [
    {
     "data": {
      "text/plain": [
       "3430.0"
      ]
     },
     "metadata": {},
     "output_type": "display_data"
    },
    {
     "data": {
      "text/plain": [
       "19046"
      ]
     },
     "metadata": {},
     "output_type": "display_data"
    },
    {
     "data": {
      "text/plain": [
       "Text(0, 0.5, 'Power in Watts')"
      ]
     },
     "execution_count": 6,
     "metadata": {},
     "output_type": "execute_result"
    },
    {
     "data": {
      "image/png": "[encoded data removed]",
      "text/plain": [
       "<Figure size 432x288 with 1 Axes>"
      ]
     },
     "metadata": {
      "needs_background": "light"
     },
     "output_type": "display_data"
    }
   ],
   "source": [
    "from scipy.signal import find_peaks\n",
    "\n",
    "dBm = -100 #dBm\n",
    "scalar = 1e-3 * np.power(10,(dBm/10))\n",
    "#height = scalar\n",
    "\n",
    "peaks, _ = find_peaks(n_obs_channel1_env, height=scalar, distance=5e3)\n",
    "# peaks2 = np.clip(n_obs_main_trace_env, a_min=scalar, a_max=None)\n",
    "peaks2 = peaks * R_unamb/(len(n_obs_channel1_env))\n",
    "\n",
    "# make the distance vector\n",
    "nsamps = int(len(n_obs_channel1_env)/5)\n",
    "x = np.linspace(0,R_unamb/5, nsamps)\n",
    "dx = R_unamb/nsamps/5\n",
    "display(R_unamb)\n",
    "display(nsamps)\n",
    "\n",
    "peaks = peaks[0:int(len(peaks)/5)]\n",
    "\n",
    "plt.semilogy(x,n_obs_channel1_env[0:nsamps])\n",
    "plt.semilogy(peaks*dx,n_obs_channel1_env[peaks], 'x')\n",
    "plt.title('Testing Peaks')\n",
    "plt.xlabel('Distance in m')\n",
    "plt.ylabel('Power in Watts')"
   ]
  },
  {
   "cell_type": "code",
   "execution_count": 7,
   "metadata": {},
   "outputs": [],
   "source": [
    "# Peaks 2\n",
    "#peaks3, _ = find_peaks(n_obs_channel1_env, height=scalar, distance=5e3)\n",
    "#time3 = np.arange(0, len(n_obs_channel1_env), 1) / rate \n",
    "#display(peaks3)\n",
    "#plt.plot(n_obs_channel1_env[peaks3], 'x')\n",
    "#peaks = plt.semilogy(time2, n_obs_channel1_env[peaks3], linewidth=0.02, alpha=2.0, ls='x', color='#FF0000', label=\"Peaks\")"
   ]
  },
  {
   "cell_type": "code",
   "execution_count": 8,
   "metadata": {
    "scrolled": false
   },
   "outputs": [
    {
     "data": {
      "text/plain": [
       "<matplotlib.legend.Legend at 0x2a8c3261408>"
      ]
     },
     "execution_count": 8,
     "metadata": {},
     "output_type": "execute_result"
    },
    {
     "data": {
      "text/plain": [
       "<Figure size 432x288 with 0 Axes>"
      ]
     },
     "metadata": {},
     "output_type": "display_data"
    },
    {
     "data": {
      "image/png": "[encoded data removed]",
      "text/plain": [
       "<Figure size 1152x576 with 1 Axes>"
      ]
     },
     "metadata": {
      "needs_background": "light"
     },
     "output_type": "display_data"
    }
   ],
   "source": [
    "# PLOT\n",
    "PRI = int(len(n_obs_channel1_env)/CHANNELS)\n",
    "time = np.arange(0, float(audData.shape[0]), 1) / rate \n",
    "time2 = np.arange(0, PRI, 1) / rate*RECORD_SECONDS*CHANNELS\n",
    "\n",
    "\n",
    "# Test Prints\n",
    "#print(np.shape(n_obs_channel1_env))\n",
    "#print(len(n_obs_channel1_env[0:PRI]))\n",
    "#print(len(time2))\n",
    "#print(len(channel1))\n",
    "#print(len(time))\n",
    "\n",
    "#plot amplitude (or loudness) over time\n",
    "plt.clf()\n",
    "plt.figure(figsize=(16,8))\n",
    "channel1fig = plt.plot(time, channel1, linewidth=0.06, alpha=0.6, color='#0000FF', label=\"Channel 1\")\n",
    "NObsReshape = plt.plot(time2, n_obs_channel1_env[0:PRI], linewidth=0.06, alpha=1.0, color='#FF0000', label=\"NObs Reshape\")\n",
    "\n",
    "plt.xlabel('Time (s) and (1/5 s)')\n",
    "plt.ylabel('Amplitude')\n",
    "\n",
    "# defining legend style and data\n",
    "import matplotlib.lines as mlines\n",
    "blue_line = mlines.Line2D([], [], color='blue', label='Channel 1')\n",
    "reds_line = mlines.Line2D([], [], color='red', label='NObs Reshape')\n",
    "\n",
    "plt.legend(handles=[blue_line, reds_line],loc='upper right')"
   ]
  }
 ],
 "metadata": {
  "kernelspec": {
   "display_name": "Python 3",
   "language": "python",
   "name": "python3"
  },
  "language_info": {
   "codemirror_mode": {
    "name": "ipython",
    "version": 3
   },
   "file_extension": ".py",
   "mimetype": "text/x-python",
   "name": "python",
   "nbconvert_exporter": "python",
   "pygments_lexer": "ipython3",
   "version": "3.7.4"
  }
 },
 "nbformat": 4,
 "nbformat_minor": 2
}
