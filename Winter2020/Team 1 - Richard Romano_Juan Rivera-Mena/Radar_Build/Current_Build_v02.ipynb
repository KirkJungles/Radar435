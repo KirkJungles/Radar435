{
 "cells": [
  {
   "cell_type": "code",
   "execution_count": 1,
   "metadata": {},
   "outputs": [],
   "source": [
    "### Setup the RADAR parameters"
   ]
  },
  {
   "cell_type": "code",
   "execution_count": 2,
   "metadata": {},
   "outputs": [
    {
     "name": "stdout",
     "output_type": "stream",
     "text": [
      "====================\n",
      "Time and Frequency\n",
      "PRI:0.25 s, PW 0.00125s, Fc 4000.0 Hz, Tc 0.00025 s\n",
      "\n",
      "\n",
      "====================\n",
      "Space and Time\n",
      "PRI:85.75 m, PW 0.43 m, kc 11.66 cycles/meter, lambda 0.09 m\n"
     ]
    }
   ],
   "source": [
    "fc = 4e3            # Carrier Frequency, Center Frequency\n",
    "vp = 343            # Phase Velocity of sound\n",
    "T  = 1/fc           # period of one Carrier Frequency\n",
    "Lambda = vp/fc\n",
    "\n",
    "# Setup Time portion\n",
    "PRI = 0.25         # Pulse Repetition Interval (seconds)\n",
    "PRF = 1/PRI         # Pulses per second (hertz)\n",
    "\n",
    "#Num cycles per pulse packet\n",
    "k = 5             # k cycles of fc in the pulse packet\n",
    "PW = k*T            # k cycles * Period of fc\n",
    "BW = 1/PW           # Bandwidth of the RADAR Pulse\n",
    "\n",
    "# error check\n",
    "if PW >= PRI:\n",
    "    print('Error: Pulse width much too long -- PRI: {}, PW = {}'.format(PRI, PW))\n",
    "\n",
    "print('='*20)\n",
    "print(\"Time and Frequency\")\n",
    "print('PRI:{} s, PW {}s, Fc {} Hz, Tc {} s'.format(PRI, PW, fc, T))\n",
    "print('\\n')\n",
    "    \n",
    "# Spatial information\n",
    "R_unamb = (PRI*vp)/2 # Unambiguous Range\n",
    "PRI_x = PRI * vp\n",
    "PW_x = PW * vp\n",
    "kc = fc/vp\n",
    "\n",
    "print('='*20)\n",
    "print(\"Space and Time\")\n",
    "print('PRI:{:.02f} m, PW {:.02f} m, kc {:.02f} cycles/meter, lambda {:.02f} m'\n",
    "      .format(PRI_x, PW_x, kc, Lambda))\n"
   ]
  },
  {
   "cell_type": "code",
   "execution_count": 3,
   "metadata": {
    "scrolled": true
   },
   "outputs": [
    {
     "name": "stdout",
     "output_type": "stream",
     "text": [
      "382976\n",
      "* Awaiting Trigger *\n",
      "* recording *\n",
      "* done recording *\n"
     ]
    }
   ],
   "source": [
    "import pyaudio\n",
    "import wave\n",
    "import sys\n",
    "import matplotlib.pyplot as plt\n",
    "import numpy as np\n",
    "from time import sleep\n",
    "import pylab\n",
    "\n",
    "# recording configs\n",
    "CHUNK = 2048\n",
    "FORMAT = pyaudio.paInt16\n",
    "CHANNELS = 2\n",
    "RATE = 96000\n",
    "RECORD_SECONDS = 4\n",
    "NFRAMES = int((RATE / CHUNK) * RECORD_SECONDS)\n",
    "NSAMPS = NFRAMES * CHUNK\n",
    "print(NSAMPS)\n",
    "WAVE_OUTPUT_FILENAME = \"output.wav\"\n",
    "\n",
    "# create & configure microphone\n",
    "mic = pyaudio.PyAudio()\n",
    "stream = mic.open(format=FORMAT,\n",
    "                channels=CHANNELS,\n",
    "                rate=RATE,\n",
    "                input=True,\n",
    "                frames_per_buffer=CHUNK)\n",
    "\n",
    "# read & store microphone data per frame read\n",
    "frames = []\n",
    "trigger = 0\n",
    "sleep(0.01)\n",
    "print(\"* Awaiting Trigger *\")\n",
    "while trigger < 20000:\n",
    "    dataTrig = stream.read(CHUNK)\n",
    "    decoded = np.frombuffer(dataTrig,dtype=np.int16);\n",
    "    trigger = np.amax(decoded)\n",
    "    #display(trigger)\n",
    "    sleep(0.001)\n",
    "\n",
    "print(\"* recording *\")\n",
    "\n",
    "for i in range(0, int(RATE / CHUNK * RECORD_SECONDS)):\n",
    "    data = stream.read(CHUNK)\n",
    "    numpydata = np.frombuffer(data,dtype=np.int16)\n",
    "    frames.append(data)\n",
    "\n",
    "print(\"* done recording *\")\n",
    "\n",
    "# kill the mic and recording\n",
    "stream.stop_stream()\n",
    "stream.close()\n",
    "mic.terminate()\n"
   ]
  },
  {
   "cell_type": "code",
   "execution_count": 4,
   "metadata": {},
   "outputs": [],
   "source": [
    "from scipy.signal import butter, lfilter\n",
    "def butter_bandpass(lowcut, highcut, fs, order=5):\n",
    "    nyq = 0.5 * fs\n",
    "    low = lowcut / nyq\n",
    "    high = highcut / nyq\n",
    "    b, a = butter(order, [low, high], btype='band')\n",
    "    return b, a\n",
    "def butter_bandpass_filter(data, lowcut, highcut, fs, order=5):\n",
    "    b, a = butter_bandpass(lowcut, highcut, fs, order=order)\n",
    "    y = lfilter(b, a, data)\n",
    "    return y"
   ]
  },
  {
   "cell_type": "code",
   "execution_count": 5,
   "metadata": {
    "scrolled": false
   },
   "outputs": [
    {
     "name": "stdout",
     "output_type": "stream",
     "text": [
      "Data Shape:\n",
      "(382976, 2)\n"
     ]
    }
   ],
   "source": [
    "#combine & store all microphone data to output.wav file\n",
    "outputFile = wave.open(WAVE_OUTPUT_FILENAME, 'wb')\n",
    "outputFile.setnchannels(CHANNELS)\n",
    "outputFile.setsampwidth(mic.get_sample_size(FORMAT))\n",
    "outputFile.setframerate(RATE)\n",
    "outputFile.writeframes(b''.join(frames))\n",
    "outputFile.close()\n",
    "\n",
    "# Plot\n",
    "time = np.arange(0, float(numpydata.shape[0]), 1) / RATE\n",
    "#plt.plot(time, numpydata)\n",
    "\n",
    "# SciPy Import\n",
    "import scipy.io.wavfile\n",
    "rate,audData=scipy.io.wavfile.read('output.wav')\n",
    "\n",
    "#wav bit type the amount of information recorded in each bit often 8, 16 or 32 bit\n",
    "audData.dtype\n",
    "\n",
    "print(\"Data Shape:\")\n",
    "print(np.shape(audData))\n",
    "\n",
    "#wav length\n",
    "len_PRI = audData.shape[0] / rate\n",
    "\n",
    "#wav number of channels mono/stereo \n",
    "audData.shape[1]\n",
    "\n",
    "#if stereo grab both channels\n",
    "channel1=audData[:,0] #left \n",
    "# channel2=audData[:,1] #right\n",
    "\n",
    "# Quick bandpass filter to clean up noise.\n",
    "channel1 = butter_bandpass_filter(channel1, 2.5e3, 5.5e3, fs=96000, order=1)"
   ]
  },
  {
   "cell_type": "code",
   "execution_count": 6,
   "metadata": {},
   "outputs": [
    {
     "name": "stdout",
     "output_type": "stream",
     "text": [
      "80000\n",
      "[    0.         31855.62760586 29148.73274129 ...     0.\n",
      "     0.             0.        ]\n",
      "Data Shape:\n",
      "(20000,)\n"
     ]
    },
    {
     "data": {
      "text/plain": [
       "[<matplotlib.lines.Line2D at 0x1e208fdda88>]"
      ]
     },
     "execution_count": 6,
     "metadata": {},
     "output_type": "execute_result"
    },
    {
     "data": {
      "image/png": "[encoded data removed]",
      "text/plain": [
       "<Figure size 432x288 with 1 Axes>"
      ]
     },
     "metadata": {
      "needs_background": "light"
     },
     "output_type": "display_data"
    }
   ],
   "source": [
    "# Cross Correlation Kernel\n",
    "# Plot\n",
    "time = np.arange(0, float(numpydata.shape[0]), 1) / RATE\n",
    "#plt.plot(time, numpydata)\n",
    "\n",
    "# SciPy Import\n",
    "kernelRate,kernelAudData=scipy.io.wavfile.read('Kernel_PulseTrain_chirp_4000_025_005.wav')\n",
    "\n",
    "#the sample rate is the number of bits of infomration recorded per second\n",
    "print(kernelRate)\n",
    "print(kernelAudData)\n",
    "\n",
    "#wav bit type the amount of information recorded in each bit often 8, 16 or 32 bit\n",
    "kernelAudData.dtype\n",
    "\n",
    "print(\"Data Shape:\")\n",
    "print(np.shape(kernelAudData))\n",
    "\n",
    "#wav length\n",
    "kernel_len_PRI = kernelAudData.shape[0] / rate\n",
    "\n",
    "#Final kernel\n",
    "kernel = np.trim_zeros(kernelAudData,'fb')\n",
    "plt.plot(kernel)"
   ]
  },
  {
   "cell_type": "code",
   "execution_count": 7,
   "metadata": {},
   "outputs": [
    {
     "name": "stdout",
     "output_type": "stream",
     "text": [
      "Channel 1 Length:\n",
      "382976\n",
      "NSAMPS Length:\n",
      "382976\n",
      "Summed Length:\n",
      "95744\n"
     ]
    },
    {
     "data": {
      "text/plain": [
       "(None, None)"
      ]
     },
     "execution_count": 7,
     "metadata": {},
     "output_type": "execute_result"
    }
   ],
   "source": [
    "# Padding\n",
    "print('Channel 1 Length:'), print (len(channel1))\n",
    "print('NSAMPS Length:'), print (NSAMPS)\n",
    "\n",
    "while np.mod(NSAMPS,RECORD_SECONDS) != 0:\n",
    "    NSAMPS += 1\n",
    "    print(NSAMPS)\n",
    "\n",
    "if len(channel1) > NSAMPS:\n",
    "    mod_channel1 = channel1[NSAMPS - len(channel1)]\n",
    "    print(\"* Shortened *\")\n",
    "    print('NEW Channel 1 Length:'), print (len(mod_channel1))\n",
    "if len(channel1) < NSAMPS:\n",
    "    mod_channel1 = np.pad(channel1, (0,NSAMPS-len(channel1)), 'median')\n",
    "    print(\"* Padded *\")\n",
    "    print('NEW Channel 1 Length:'), print (len(mod_channel1))\n",
    "if len(channel1) == NSAMPS:\n",
    "    mod_channel1 = channel1\n",
    "\n",
    "\n",
    "# N Observations Effect\n",
    "# provide n observation effects\n",
    "channel1_env = mod_channel1.reshape(RECORD_SECONDS, int(NSAMPS/RECORD_SECONDS))\n",
    "# add them all together\n",
    "n_obs_channel1_env = channel1_env.sum(axis=0)\n",
    "\n",
    "print('Summed Length:'),print(len(n_obs_channel1_env))\n",
    "\n",
    "# Turn off Shaping\n",
    "#n_obs_channel1_env = channel1"
   ]
  },
  {
   "cell_type": "code",
   "execution_count": 8,
   "metadata": {},
   "outputs": [
    {
     "name": "stdout",
     "output_type": "stream",
     "text": [
      "Original array length: 4787\n",
      "New array length: 4885\n"
     ]
    },
    {
     "data": {
      "text/plain": [
       "<StemContainer object of 3 artists>"
      ]
     },
     "execution_count": 8,
     "metadata": {},
     "output_type": "execute_result"
    },
    {
     "data": {
      "image/png": "[encoded data removed]",
      "text/plain": [
       "<Figure size 432x288 with 1 Axes>"
      ]
     },
     "metadata": {
      "needs_background": "light"
     },
     "output_type": "display_data"
    }
   ],
   "source": [
    "# Cross Correlation:\n",
    "from scipy.signal import correlate\n",
    "\n",
    "PRI_index = int(len(n_obs_channel1_env)/CHANNELS)\n",
    "zoom = 10\n",
    "PRI_index_zoom = int(PRI_index/zoom)\n",
    "\n",
    "xcorr_array = np.absolute(correlate(n_obs_channel1_env[0:PRI_index_zoom],kernel,'full'))\n",
    "xcorr_Len = len(xcorr_array)\n",
    "print('Original array length: {}'.format(len(n_obs_channel1_env[0:PRI_index_zoom])))\n",
    "print('New array length: {}'.format(xcorr_Len))\n",
    "\n",
    "time3 = np.arange(0, xcorr_Len, 1) / rate*RECORD_SECONDS*CHANNELS\n",
    "time4 = np.arange(0, len(kernel), 1) / rate*RECORD_SECONDS*CHANNELS\n",
    "\n",
    "plt.stem(time3,xcorr_array,use_line_collection=True)\n",
    "plt.stem(time3,n_obs_channel1_env[0:xcorr_Len],use_line_collection=True)\n",
    "plt.stem(time4,-1*kernel,use_line_collection=True)"
   ]
  },
  {
   "cell_type": "code",
   "execution_count": 9,
   "metadata": {},
   "outputs": [
    {
     "data": {
      "text/html": [
       "<style  type=\"text/css\" >\n",
       "    #T_3b64bbac_68bc_11ea_b531_b039567a6ee3row0_col0 {\n",
       "            font-size:  10pt;\n",
       "        }    #T_3b64bbac_68bc_11ea_b531_b039567a6ee3row0_col1 {\n",
       "            font-size:  10pt;\n",
       "        }    #T_3b64bbac_68bc_11ea_b531_b039567a6ee3row1_col0 {\n",
       "            font-size:  10pt;\n",
       "        }    #T_3b64bbac_68bc_11ea_b531_b039567a6ee3row1_col1 {\n",
       "            font-size:  10pt;\n",
       "        }    #T_3b64bbac_68bc_11ea_b531_b039567a6ee3row2_col0 {\n",
       "            font-size:  10pt;\n",
       "        }    #T_3b64bbac_68bc_11ea_b531_b039567a6ee3row2_col1 {\n",
       "            font-size:  10pt;\n",
       "        }    #T_3b64bbac_68bc_11ea_b531_b039567a6ee3row3_col0 {\n",
       "            font-size:  10pt;\n",
       "        }    #T_3b64bbac_68bc_11ea_b531_b039567a6ee3row3_col1 {\n",
       "            font-size:  10pt;\n",
       "        }    #T_3b64bbac_68bc_11ea_b531_b039567a6ee3row4_col0 {\n",
       "            font-size:  10pt;\n",
       "        }    #T_3b64bbac_68bc_11ea_b531_b039567a6ee3row4_col1 {\n",
       "            font-size:  10pt;\n",
       "        }</style><table id=\"T_3b64bbac_68bc_11ea_b531_b039567a6ee3\" ><thead>    <tr>        <th class=\"blank level0\" ></th>        <th class=\"col_heading level0 col0\" >Distance</th>        <th class=\"col_heading level0 col1\" >Return Strength</th>    </tr></thead><tbody>\n",
       "                <tr>\n",
       "                        <th id=\"T_3b64bbac_68bc_11ea_b531_b039567a6ee3level0_row0\" class=\"row_heading level0 row0\" >0</th>\n",
       "                        <td id=\"T_3b64bbac_68bc_11ea_b531_b039567a6ee3row0_col0\" class=\"data row0 col0\" >0.193091</td>\n",
       "                        <td id=\"T_3b64bbac_68bc_11ea_b531_b039567a6ee3row0_col1\" class=\"data row0 col1\" >3.75024e+09</td>\n",
       "            </tr>\n",
       "            <tr>\n",
       "                        <th id=\"T_3b64bbac_68bc_11ea_b531_b039567a6ee3level0_row1\" class=\"row_heading level0 row1\" >1</th>\n",
       "                        <td id=\"T_3b64bbac_68bc_11ea_b531_b039567a6ee3row1_col0\" class=\"data row1 col0\" >0.816249</td>\n",
       "                        <td id=\"T_3b64bbac_68bc_11ea_b531_b039567a6ee3row1_col1\" class=\"data row1 col1\" >7.66706e+09</td>\n",
       "            </tr>\n",
       "            <tr>\n",
       "                        <th id=\"T_3b64bbac_68bc_11ea_b531_b039567a6ee3level0_row2\" class=\"row_heading level0 row2\" >2</th>\n",
       "                        <td id=\"T_3b64bbac_68bc_11ea_b531_b039567a6ee3row2_col0\" class=\"data row2 col0\" >1.39552</td>\n",
       "                        <td id=\"T_3b64bbac_68bc_11ea_b531_b039567a6ee3row2_col1\" class=\"data row2 col1\" >3.42036e+09</td>\n",
       "            </tr>\n",
       "            <tr>\n",
       "                        <th id=\"T_3b64bbac_68bc_11ea_b531_b039567a6ee3level0_row3\" class=\"row_heading level0 row3\" >3</th>\n",
       "                        <td id=\"T_3b64bbac_68bc_11ea_b531_b039567a6ee3row3_col0\" class=\"data row3 col0\" >1.94846</td>\n",
       "                        <td id=\"T_3b64bbac_68bc_11ea_b531_b039567a6ee3row3_col1\" class=\"data row3 col1\" >4.23616e+09</td>\n",
       "            </tr>\n",
       "            <tr>\n",
       "                        <th id=\"T_3b64bbac_68bc_11ea_b531_b039567a6ee3level0_row4\" class=\"row_heading level0 row4\" >4</th>\n",
       "                        <td id=\"T_3b64bbac_68bc_11ea_b531_b039567a6ee3row4_col0\" class=\"data row4 col0\" >2.59795</td>\n",
       "                        <td id=\"T_3b64bbac_68bc_11ea_b531_b039567a6ee3row4_col1\" class=\"data row4 col1\" >7.87116e+09</td>\n",
       "            </tr>\n",
       "    </tbody></table>"
      ],
      "text/plain": [
       "<pandas.io.formats.style.Styler at 0x1e20a9b3188>"
      ]
     },
     "metadata": {},
     "output_type": "display_data"
    },
    {
     "name": "stdout",
     "output_type": "stream",
     "text": [
      "Total Targets: 5\n"
     ]
    }
   ],
   "source": [
    "# Target Detection\n",
    "# Find Peaks still used as threshold function was built later\n",
    "\n",
    "from scipy.signal import find_peaks\n",
    "R_unamb_zoom = R_unamb\n",
    "scalar = np.median(np.absolute(xcorr_array[0:int(len(xcorr_array)/10)]))*2.2\n",
    "peaks, _ = find_peaks(xcorr_array, height=scalar, distance=60)\n",
    "\n",
    "# make the distance vector\n",
    "nsamps = int(len(xcorr_array))\n",
    "x = np.linspace(0,R_unamb_zoom, nsamps)\n",
    "dx = R_unamb_zoom/nsamps\n",
    "\n",
    "# Pandas Table\n",
    "import pandas as pd\n",
    "# intialise data of lists.\n",
    "data = {'Distance':peaks*dx,\n",
    "        'Return Strength':xcorr_array[peaks]}\n",
    " \n",
    "# Create DataFrame\n",
    "df = pd.DataFrame(data)\n",
    "df = df.style.set_properties(**{\n",
    "    'font-size': '10pt'})\n",
    "    \n",
    "# Print the output.\n",
    "display(df)\n",
    "print('Total Targets: {}' .format(len(peaks)))"
   ]
  },
  {
   "cell_type": "code",
   "execution_count": 10,
   "metadata": {},
   "outputs": [
    {
     "data": {
      "text/plain": [
       "Text(0, 0.5, 'Relative Power')"
      ]
     },
     "execution_count": 10,
     "metadata": {},
     "output_type": "execute_result"
    },
    {
     "data": {
      "image/png": "[encoded data removed]",
      "text/plain": [
       "<Figure size 1152x576 with 1 Axes>"
      ]
     },
     "metadata": {
      "needs_background": "light"
     },
     "output_type": "display_data"
    }
   ],
   "source": [
    "# Distance Plot\n",
    "\n",
    "plt.figure(figsize=(16,8))\n",
    "plt.plot(x,xcorr_array[0:nsamps])\n",
    "plt.plot(peaks*dx,xcorr_array[peaks], 'x')\n",
    "plt.title('2m Target')\n",
    "plt.xlabel('Distance in m')\n",
    "plt.ylabel('Relative Power')"
   ]
  },
  {
   "cell_type": "code",
   "execution_count": 11,
   "metadata": {
    "scrolled": false
   },
   "outputs": [
    {
     "name": "stdout",
     "output_type": "stream",
     "text": [
      "Have a nice Day\n"
     ]
    }
   ],
   "source": [
    "#### Time PLOT (Useful for debugging)\n",
    "'''\n",
    "time = np.arange(0, float(audData.shape[0]), 1) / rate \n",
    "time2 = np.arange(0, PRI_index_zoom, 1) / rate*RECORD_SECONDS*CHANNELS\n",
    "\n",
    "\n",
    "# Test Prints\n",
    "#print(np.shape(n_obs_channel1_env))\n",
    "#print(len(n_obs_channel1_env[0:PRI]))\n",
    "#print(len(time2))\n",
    "#print(len(channel1))\n",
    "#print(len(time))\n",
    "\n",
    "#plot amplitude (or loudness) over time\n",
    "plt.clf()\n",
    "plt.figure(figsize=(16,8))\n",
    "#channel1fig = plt.semilogy(time, channel1, linewidth=0.1, alpha=0.6, color='#0000FF', label=\"Channel 1\")\n",
    "NObsReshape = plt.plot(time2, np.absolute(n_obs_channel1_env[0:PRI_index_zoom]), linewidth=0.2, alpha=1.0, color='#FF0000', label=\"NObs Reshape\")\n",
    "\n",
    "plt.title('Returns in Time')\n",
    "plt.xlabel('Time (s)')\n",
    "plt.ylabel('Amplitude')\n",
    "\n",
    "# defining legend style and data\n",
    "import matplotlib.lines as mlines\n",
    "blue_line = mlines.Line2D([], [], color='blue', label='Channel 1')\n",
    "reds_line = mlines.Line2D([], [], color='red', label='NObs Reshape')\n",
    "\n",
    "plt.legend(handles=[blue_line, reds_line],loc='upper right')\n",
    "\n",
    "np.savetxt(\"RadarData.csv\", np.absolute(n_obs_channel1_env[0:PRI_index_zoom]), delimiter=\",\")\n",
    "\n",
    "'''\n",
    "print(\"Have a nice Day\")"
   ]
  },
  {
   "cell_type": "code",
   "execution_count": null,
   "metadata": {},
   "outputs": [],
   "source": []
  }
 ],
 "metadata": {
  "kernelspec": {
   "display_name": "Python 3",
   "language": "python",
   "name": "python3"
  },
  "language_info": {
   "codemirror_mode": {
    "name": "ipython",
    "version": 3
   },
   "file_extension": ".py",
   "mimetype": "text/x-python",
   "name": "python",
   "nbconvert_exporter": "python",
   "pygments_lexer": "ipython3",
   "version": "3.7.4"
  }
 },
 "nbformat": 4,
 "nbformat_minor": 2
}
